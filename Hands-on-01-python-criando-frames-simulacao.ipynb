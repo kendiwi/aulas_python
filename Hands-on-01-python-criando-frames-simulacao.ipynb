{
 "cells": [
  {
   "cell_type": "markdown",
   "metadata": {},
   "source": [
    "## Hands-on 01 - Python criando frames ficticios"
   ]
  },
  {
   "cell_type": "markdown",
   "metadata": {},
   "source": [
    "### Importando bibliotecas"
   ]
  },
  {
   "cell_type": "code",
   "execution_count": 38,
   "metadata": {},
   "outputs": [],
   "source": [
    "import pandas as pd\n",
    "import numpy as np\n",
    "from random import randint\n",
    "from datetime import date\n",
    "import datetime\n"
   ]
  },
  {
   "cell_type": "markdown",
   "metadata": {},
   "source": [
    "### Mapeando, abrindo e salvando arquivos"
   ]
  },
  {
   "cell_type": "code",
   "execution_count": 108,
   "metadata": {},
   "outputs": [],
   "source": [
    "base=pd.read_excel('../bases/vendas.xlsx')"
   ]
  },
  {
   "cell_type": "markdown",
   "metadata": {},
   "source": [
    "### Criando frame de vendas"
   ]
  },
  {
   "cell_type": "code",
   "execution_count": 109,
   "metadata": {},
   "outputs": [],
   "source": [
    "DATA=[]\n",
    "PRODUTO=[]\n",
    "SEGMENTO=[]\n",
    "CPF=[]\n",
    "VALOR=[]\n",
    "\n",
    "for i in range(0,base.shape[0]):\n",
    "    \n",
    "    # DEFININDO ALEATORIAMENTE A DATA DE VENDA\n",
    "    \n",
    "    dia = randint(1,28)\n",
    "    mes = randint(1,12)\n",
    "    ano = 2018\n",
    "    data = str(dia)+'-'+str(mes)+'-'+str(ano)\n",
    "\n",
    "    \n",
    "    # DEFININDO ALEATORIAMENTE O PRODUTO\n",
    "    ale = randint(1,6)\n",
    "    \n",
    "    \n",
    "    if ale == 1:\n",
    "        p ='vida'\n",
    "        v = randint(90,200)\n",
    "    \n",
    "    elif ale == 2:\n",
    "        p = 'mulher'\n",
    "        v = randint(70,150)\n",
    "        \n",
    "    elif ale == 3:\n",
    "        p = 'senior'\n",
    "        v = 50\n",
    "    \n",
    "    else:\n",
    "        p = 'viva familia'\n",
    "        v=20\n",
    "    \n",
    "    # DEFININDO ALEATORIAMENTE O SEGMENTO  \n",
    "    \n",
    "    seg = randint(1,5)\n",
    "    \n",
    "    if seg==1:\n",
    "        s=\"personnalite\"\n",
    "    \n",
    "    elif seg==2:\n",
    "        s='uniclass'\n",
    "    else:\n",
    "        s='agencias'\n",
    "        \n",
    "    # DEFININDO ALEATORIAMENTE O CPF\n",
    "    \n",
    "    cpf=randint(333333333,444444444)\n",
    "    \n",
    "    DATA.append(data)\n",
    "    PRODUTO.append(p)\n",
    "    SEGMENTO.append(s)\n",
    "    CPF.append(cpf)\n",
    "    VALOR.append(v)\n",
    "    \n",
    "base['data']=DATA\n",
    "base['data_venda']=pd.to_datetime(base.data,format='%d-%m-%Y')\n",
    "base['produto']=PRODUTO\n",
    "base['segmento']=SEGMENTO\n",
    "base['cpf_semdac']=CPF\n",
    "base['valor']=VALOR\n",
    "base['anomes']=base.data_venda.apply(lambda x: x.strftime('%Y%m'))\n",
    "\n",
    "base.drop('data',inplace=True,axis=1)\n",
    "base.drop('cpf',inplace=True,axis=1)\n",
    "\n",
    "base=base[['anomes','data_venda','cpf_semdac','segmento','apolice','produto','valor']]\n",
    "\n",
    "#base.to_excel('../bases/vendas_final.xlsx')"
   ]
  },
  {
   "cell_type": "code",
   "execution_count": 110,
   "metadata": {},
   "outputs": [
    {
     "data": {
      "text/html": [
       "<div>\n",
       "<style scoped>\n",
       "    .dataframe tbody tr th:only-of-type {\n",
       "        vertical-align: middle;\n",
       "    }\n",
       "\n",
       "    .dataframe tbody tr th {\n",
       "        vertical-align: top;\n",
       "    }\n",
       "\n",
       "    .dataframe thead th {\n",
       "        text-align: right;\n",
       "    }\n",
       "</style>\n",
       "<table border=\"1\" class=\"dataframe\">\n",
       "  <thead>\n",
       "    <tr style=\"text-align: right;\">\n",
       "      <th></th>\n",
       "      <th>anomes</th>\n",
       "      <th>data_venda</th>\n",
       "      <th>cpf_semdac</th>\n",
       "      <th>segmento</th>\n",
       "      <th>apolice</th>\n",
       "      <th>produto</th>\n",
       "      <th>valor</th>\n",
       "    </tr>\n",
       "  </thead>\n",
       "  <tbody>\n",
       "    <tr>\n",
       "      <th>0</th>\n",
       "      <td>201809</td>\n",
       "      <td>2018-09-16</td>\n",
       "      <td>361769663</td>\n",
       "      <td>personnalite</td>\n",
       "      <td>111</td>\n",
       "      <td>viva familia</td>\n",
       "      <td>20</td>\n",
       "    </tr>\n",
       "    <tr>\n",
       "      <th>1</th>\n",
       "      <td>201806</td>\n",
       "      <td>2018-06-05</td>\n",
       "      <td>358968260</td>\n",
       "      <td>agencias</td>\n",
       "      <td>112</td>\n",
       "      <td>mulher</td>\n",
       "      <td>70</td>\n",
       "    </tr>\n",
       "    <tr>\n",
       "      <th>2</th>\n",
       "      <td>201805</td>\n",
       "      <td>2018-05-25</td>\n",
       "      <td>351490297</td>\n",
       "      <td>agencias</td>\n",
       "      <td>113</td>\n",
       "      <td>mulher</td>\n",
       "      <td>75</td>\n",
       "    </tr>\n",
       "    <tr>\n",
       "      <th>3</th>\n",
       "      <td>201807</td>\n",
       "      <td>2018-07-10</td>\n",
       "      <td>370619533</td>\n",
       "      <td>personnalite</td>\n",
       "      <td>114</td>\n",
       "      <td>mulher</td>\n",
       "      <td>126</td>\n",
       "    </tr>\n",
       "    <tr>\n",
       "      <th>4</th>\n",
       "      <td>201810</td>\n",
       "      <td>2018-10-25</td>\n",
       "      <td>353775735</td>\n",
       "      <td>agencias</td>\n",
       "      <td>115</td>\n",
       "      <td>viva familia</td>\n",
       "      <td>20</td>\n",
       "    </tr>\n",
       "  </tbody>\n",
       "</table>\n",
       "</div>"
      ],
      "text/plain": [
       "   anomes data_venda  cpf_semdac      segmento  apolice       produto  valor\n",
       "0  201809 2018-09-16   361769663  personnalite      111  viva familia     20\n",
       "1  201806 2018-06-05   358968260      agencias      112        mulher     70\n",
       "2  201805 2018-05-25   351490297      agencias      113        mulher     75\n",
       "3  201807 2018-07-10   370619533  personnalite      114        mulher    126\n",
       "4  201810 2018-10-25   353775735      agencias      115  viva familia     20"
      ]
     },
     "execution_count": 110,
     "metadata": {},
     "output_type": "execute_result"
    }
   ],
   "source": [
    "base.head()"
   ]
  },
  {
   "cell_type": "markdown",
   "metadata": {},
   "source": [
    "### Criando frame de potenciais"
   ]
  },
  {
   "cell_type": "code",
   "execution_count": 142,
   "metadata": {},
   "outputs": [],
   "source": [
    "base_pot = pd.read_excel('../bases/vendas_final.xlsx')"
   ]
  },
  {
   "cell_type": "code",
   "execution_count": 143,
   "metadata": {},
   "outputs": [],
   "source": [
    "POTENCIAL=[]\n",
    "\n",
    "for i in range(0,base_pot.shape[0]):\n",
    "    c=base_pot.apolice.loc[i]\n",
    "    d= c % 5\n",
    "    \n",
    "    if d == 4:\n",
    "        e = 'nao_potencial'\n",
    "    else:\n",
    "        e='potencial'\n",
    "        \n",
    "    POTENCIAL.append(e)\n",
    "\n",
    "base_pot['potencial']=POTENCIAL"
   ]
  },
  {
   "cell_type": "code",
   "execution_count": 144,
   "metadata": {},
   "outputs": [],
   "source": [
    "base_pot['produto']=base_pot.produto.shift(periods=1)"
   ]
  },
  {
   "cell_type": "code",
   "execution_count": 148,
   "metadata": {},
   "outputs": [],
   "source": [
    "base_pot2=base_pot[['cpf_semdac','produto','potencial']]"
   ]
  },
  {
   "cell_type": "code",
   "execution_count": 150,
   "metadata": {},
   "outputs": [],
   "source": [
    "base_pot3=base_pot2[(base_pot2.potencial == 'potencial') & (base_pot2.produto.notnull())]"
   ]
  },
  {
   "cell_type": "code",
   "execution_count": 154,
   "metadata": {},
   "outputs": [],
   "source": [
    "base_pot3.to_excel(\"../bases/potencial_final.xlsx\")"
   ]
  },
  {
   "cell_type": "markdown",
   "metadata": {},
   "source": [
    "### Criando frame de cancelamento"
   ]
  },
  {
   "cell_type": "code",
   "execution_count": 50,
   "metadata": {},
   "outputs": [],
   "source": [
    "base_cnc = pd.read_excel('../bases/vendas_final.xlsx')"
   ]
  },
  {
   "cell_type": "code",
   "execution_count": 51,
   "metadata": {},
   "outputs": [],
   "source": [
    "CANC=[]\n",
    "\n",
    "for i in range(0,base_cnc.shape[0]):\n",
    "    c=base_cnc.apolice.loc[i]\n",
    "    d= c % 3\n",
    "    \n",
    "    if d == 2:\n",
    "        e = 'cancelado'\n",
    "    else:\n",
    "        e='ativo'\n",
    "        \n",
    "    CANC.append(e)\n",
    "\n",
    "base_cnc['cancelado']=CANC"
   ]
  },
  {
   "cell_type": "code",
   "execution_count": 52,
   "metadata": {},
   "outputs": [
    {
     "data": {
      "text/plain": [
       "ativo        860\n",
       "cancelado    429\n",
       "Name: cancelado, dtype: int64"
      ]
     },
     "execution_count": 52,
     "metadata": {},
     "output_type": "execute_result"
    }
   ],
   "source": [
    "base_cnc.cancelado.value_counts()"
   ]
  },
  {
   "cell_type": "code",
   "execution_count": 53,
   "metadata": {},
   "outputs": [],
   "source": [
    "base_cnc2=base_cnc[base_cnc.cancelado=='cancelado'].reset_index(drop=True)"
   ]
  },
  {
   "cell_type": "code",
   "execution_count": 54,
   "metadata": {},
   "outputs": [],
   "source": [
    "X=[]\n",
    "for i in range(0,base_cnc2.shape[0]):\n",
    "\n",
    "    x = randint(1,360)    \n",
    "    X.append(x)\n",
    "    \n",
    "base_cnc2['dias_canc'] = X"
   ]
  },
  {
   "cell_type": "code",
   "execution_count": 55,
   "metadata": {},
   "outputs": [],
   "source": [
    "temp = base_cnc2['dias_canc'].apply(np.ceil).apply(lambda x: pd.Timedelta(x, unit='D'))"
   ]
  },
  {
   "cell_type": "code",
   "execution_count": 56,
   "metadata": {},
   "outputs": [],
   "source": [
    "base_cnc2['data_cancelamento']= base_cnc2.data_venda + temp"
   ]
  },
  {
   "cell_type": "code",
   "execution_count": 57,
   "metadata": {},
   "outputs": [],
   "source": [
    "base_cnc3=base_cnc2[base_cnc2.data_cancelamento < '2019-01-01'][['apolice','produto','data_cancelamento']]"
   ]
  },
  {
   "cell_type": "code",
   "execution_count": 60,
   "metadata": {},
   "outputs": [],
   "source": [
    "base_cnc3.to_excel('../bases/cancelamento_final.xlsx')"
   ]
  }
 ],
 "metadata": {
  "kernelspec": {
   "display_name": "Python 3",
   "language": "python",
   "name": "python3"
  },
  "language_info": {
   "codemirror_mode": {
    "name": "ipython",
    "version": 3
   },
   "file_extension": ".py",
   "mimetype": "text/x-python",
   "name": "python",
   "nbconvert_exporter": "python",
   "pygments_lexer": "ipython3",
   "version": "3.6.5"
  }
 },
 "nbformat": 4,
 "nbformat_minor": 2
}
